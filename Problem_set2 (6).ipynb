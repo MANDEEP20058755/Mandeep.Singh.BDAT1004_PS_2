{
 "cells": [
  {
   "cell_type": "markdown",
   "id": "bfcf6cc5-7fef-4d67-9b48-7cb9cd1c2284",
   "metadata": {},
   "source": [
    "#Question 1\n",
    "Consider the following Python module:\n",
    "a = 0\n",
    "def b():\n",
    "global a\n",
    "a = c(a)\n",
    "def c(a):\n",
    "return a + 2\n",
    "After importing the module into the interpreter, you execute:\n",
    ">>> b()\n",
    ">>> b()\n",
    ">>> b()\n",
    ">>> a\n",
    "?\n",
    "What value is displayed when the last expression (a) is evaluated? Explain your\n",
    "answer by indicating what happens in every executed statement."
   ]
  },
  {
   "cell_type": "code",
   "execution_count": 3,
   "id": "5470ba81-5395-4687-b70e-11680d97f428",
   "metadata": {},
   "outputs": [
    {
     "name": "stdout",
     "output_type": "stream",
     "text": [
      "6\n"
     ]
    }
   ],
   "source": [
    "try:\n",
    "    value = 0\n",
    "\n",
    "    def update_value():\n",
    "        global value\n",
    "        value = increment(value)\n",
    "\n",
    "    def increment(number):\n",
    "        return number + 2\n",
    "\n",
    "    update_value()\n",
    "    update_value()\n",
    "    update_value()\n",
    "    print(value)\n",
    "except Exception as error:\n",
    "    print(\"Oops!\", error.__class__, \"occurred.\")\n"
   ]
  },
  {
   "cell_type": "markdown",
   "id": "c0ef7a3d-adb9-4901-bb42-a96fe7872fe6",
   "metadata": {},
   "source": [
    "#Question 2\n",
    "Function fileLength(), given to you, takes the name of a file as input and returns\n",
    "the length of the file:\n",
    ">>> fileLength('midterm.py')\n",
    "284\n",
    ">>> fileLength('idterm.py')\n",
    "Traceback (most recent call last):\n",
    "File \"<pyshell#34>\", line 1, in <module>\n",
    "fileLength('idterm.py')\n",
    "File \"/Users/me/midterm.py\", line 3, in fileLength\n",
    "infile = open(filename)\n",
    "FileNotFoundError: [Errno 2] No such file or directory:\n",
    "'idterm.py'\n",
    "As shown above, if the file cannot be found by the interpreter or if it cannot be read\n",
    "as a text file, an exception will be raised. Modify function fileLength() so that a\n",
    "friendly message is printed instead:\n",
    ">>> fileLength('midterm.py')\n",
    "358\n",
    ">>> fileLength('idterm.py')\n",
    "File idterm.py not found."
   ]
  },
  {
   "cell_type": "code",
   "execution_count": 5,
   "id": "7530c648-fd41-498c-9db4-b2c1a91454be",
   "metadata": {},
   "outputs": [
    {
     "name": "stdout",
     "output_type": "stream",
     "text": [
      "The file midterm.txt is either missing from path or the name is incorrect\n",
      "The file idterm.py is either missing from path or the name is incorrect\n"
     ]
    }
   ],
   "source": [
    "def file_length(assignment2):\n",
    "    try:\n",
    "        file = open(assignment2,\"r\")\n",
    "        \n",
    "    except FileNotFoundError as f:\n",
    "        print(\"The file {0} is either missing from path or the name is incorrect\".format(assignment2))\n",
    "    return\n",
    "    make_file =file.read()\n",
    "    print(len(make_file))\n",
    "              \n",
    "file_length(\"midterm.txt\")\n",
    "file_length(\"idterm.py\")"
   ]
  },
  {
   "cell_type": "markdown",
   "id": "3c5f587e-d823-49c5-a852-00b9cf969508",
   "metadata": {},
   "source": [
    "#Question 3\n",
    "Now write a class named Kangaroo as a subclass of Marsupial that inherits all the\n",
    "attributes of Marsupial and also:\n",
    "a. extends the Marsupial __init__ constructor to take, as input, the\n",
    "coordinates x and y of the Kangaroo object,\n",
    "b. supports method jump that takes number values dx and dy as input and\n",
    "moves the kangaroo by dx units along the x-axis and by dy units along the y-\n",
    "axis, and\n",
    "c. overloads the __str__ operator so it behaves as shown below."
   ]
  },
  {
   "cell_type": "code",
   "execution_count": 7,
   "id": "83949c0c-d839-4a9c-8598-1c38b9587ce1",
   "metadata": {
    "scrolled": true
   },
   "outputs": [
    {
     "name": "stdout",
     "output_type": "stream",
     "text": [
      "['doll', 'firetruck', 'kitten']\n",
      "I am at Kangaroo located at coordinates (0,0)\n",
      "['doll', 'firetruck', 'kitten']\n",
      "I am at Kangaroo located at coordinates (3,0)\n"
     ]
    }
   ],
   "source": [
    "class Marsupial:\n",
    "\n",
    "    def __init__(self):\n",
    "        self.collect_list = []\n",
    "    def put_in_pouch(self,get_value):\n",
    "        self.collect_list.append(get_value)\n",
    "    def pouch_contents(self):\n",
    "        print(self.collect_list)\n",
    "\n",
    "class Kangaroo(Marsupial):\n",
    "    \n",
    "    def __init__(self,get_x_value,get_y_value):\n",
    "        super().__init__()\n",
    "        self.x_value = get_x_value\n",
    "        self.y_value = get_y_value\n",
    "\n",
    "    def jump(self,get_x_value,get_y_value):\n",
    "        self.x_value += get_x_value\n",
    "        self.y_value += get_y_value\n",
    "    \n",
    "    def __str__(self):\n",
    "        return \"I am at Kangaroo located at coordinates ({0},{1})\".format(self.x_value,self.y_value)\n",
    "\n",
    "m = Marsupial()\n",
    "m.put_in_pouch('doll')\n",
    "m.put_in_pouch('firetruck')\n",
    "m.put_in_pouch('kitten')\n",
    "m.pouch_contents()\n",
    "k = Kangaroo(0,0)\n",
    "print(k)\n",
    "k.put_in_pouch('doll')\n",
    "k.put_in_pouch('firetruck')\n",
    "k.put_in_pouch('kitten')\n",
    "k.pouch_contents()\n",
    "k.jump(1,0)\n",
    "k.jump(1,0)\n",
    "k.jump(1,0)\n",
    "print(k)"
   ]
  },
  {
   "cell_type": "markdown",
   "id": "692896ff-07a9-4cb0-b150-60b8f943c8c0",
   "metadata": {},
   "source": [
    "#Question 4\n",
    "\n",
    "Write function collatz() that takes a positive integer x as input and prints theCollatz sequence starting at x. A Collatz sequence is obtained by repeatedly applyingthis rule to the previous number x in the sequence:\n",
    "\n",
    "x = x/2 if x is even 3x+1 if x is odd\n",
    "\n",
    "Your function should stop when the sequence gets to number 1.Your implementation must be recursive, without any loops.\n",
    "\n",
    "collatz(1) 1 collatz(10) 10 5 16 8 4 2 1"
   ]
  },
  {
   "cell_type": "code",
   "execution_count": 10,
   "id": "82fec30c-1d9d-4cd6-82a0-2c4d4a55628c",
   "metadata": {},
   "outputs": [
    {
     "name": "stdout",
     "output_type": "stream",
     "text": [
      "10\n",
      "5\n",
      "16\n",
      "8\n",
      "4\n",
      "2\n",
      "1\n"
     ]
    }
   ],
   "source": [
    "def collatz(get_value):\n",
    "    x = get_value\n",
    "    while x != 1:\n",
    "        print(x)\n",
    "        if x % 2 == 0:\n",
    "            x = int(x / 2)\n",
    "        else:\n",
    "            x = int(3 * x + 1)\n",
    "    print(1)\n",
    "\n",
    "collatz(10)\n"
   ]
  },
  {
   "cell_type": "markdown",
   "id": "6dae13d6-d93a-4a3f-ace0-56614fce0e41",
   "metadata": {},
   "source": [
    "#Question 5\n",
    "\n",
    "Write a recursive method binary() that takes a non-negativeinteger n and prints the binary representation of integer n.\n",
    "\n",
    "binary(0) 0 binary(1) 1 binary(3) 11 binary(9) 1001"
   ]
  },
  {
   "cell_type": "code",
   "execution_count": 13,
   "id": "8d4b6c8a-9164-4e36-8744-bfc2698ebd00",
   "metadata": {},
   "outputs": [
    {
     "name": "stdout",
     "output_type": "stream",
     "text": [
      "0\n",
      "1\n",
      "11\n",
      "1001\n"
     ]
    }
   ],
   "source": [
    "def binary(get_value, binary_representation=\"\"):\n",
    "    if get_value < 0:\n",
    "        print(\"Input must be a non-negative integer.\")\n",
    "        return\n",
    "    elif get_value == 0:\n",
    "        if binary_representation == \"\":\n",
    "            print(0)\n",
    "        else:\n",
    "            print(binary_representation[::-1])\n",
    "    else:\n",
    "        remainder = get_value % 2\n",
    "        binary_representation += str(remainder)\n",
    "        get_value = int(get_value // 2)\n",
    "        binary(get_value, binary_representation)\n",
    "\n",
    "binary(0)\n",
    "binary(1)\n",
    "binary(3)\n",
    "binary(9)"
   ]
  },
  {
   "cell_type": "markdown",
   "id": "4d01cb4e-0b11-4238-99ec-66216dc6ed7b",
   "metadata": {},
   "source": [
    "#Question 6\n",
    "\n",
    "Implement a class named HeadingParser that can be used to parse an HTMLdocument, and retrieve and print all the headings in the document. You shouldimplement your class as a subclass of HTMLParser, defined in Standard Librarymodule html.parser. When fed a string containing HTML code, your class shouldprint the headings, one per line and in the order in which they appear in thedocument. Each heading should be indented as follows: an h1 heading should have indentation 0, and h2 heading should have indentation 1, etc. Test yourimplementation using w3c.html.\n",
    "\n",
    "infile = open('w3c.html') content = infile.read() infile.close() hp = HeadingParser() hp.feed(content) W3C Mission Principles"
   ]
  },
  {
   "cell_type": "code",
   "execution_count": 28,
   "id": "4dc13bcc-3393-4d7e-a102-45d38b8f2eab",
   "metadata": {
    "scrolled": true
   },
   "outputs": [
    {
     "name": "stdout",
     "output_type": "stream",
     "text": [
      "W3C Mission\n",
      " Principles\n"
     ]
    }
   ],
   "source": [
    "from html.parser import HTMLParser\n",
    "\n",
    "class HeadingParser(HTMLParser):\n",
    "    def __init__(self):\n",
    "        super().__init__()\n",
    "        self.headings = []\n",
    "        self.current_heading = None\n",
    "\n",
    "    def handle_starttag(self, tag, attrs):\n",
    "        if tag.startswith('h') and tag[1:].isdigit():\n",
    "            self.current_heading = {'level': int(tag[1]), 'text': ''}\n",
    "\n",
    "    def handle_data(self, data):\n",
    "        if self.current_heading:\n",
    "            self.current_heading['text'] += data\n",
    "\n",
    "    def handle_endtag(self, tag):\n",
    "        if self.current_heading:\n",
    "            self.headings.append(self.current_heading)\n",
    "            self.current_heading = None\n",
    "\n",
    "    def print_headings(self):\n",
    "        for heading in self.headings:\n",
    "            print(' ' * (heading['level'] - 1) + heading['text'])\n",
    "\n",
    "\n",
    "infile = open(\"w3c.html\", \"r\")\n",
    "content = infile.read()\n",
    "infile.close()\n",
    "hp = HeadingParser()\n",
    "hp.feed(content)\n",
    "hp.print_headings()"
   ]
  },
  {
   "cell_type": "markdown",
   "id": "719c3517-ab55-4b4f-ba99-89d6239a1524",
   "metadata": {},
   "source": [
    "#Question 7\n",
    "Implement recursive function webdir() that takes as input: a URL (as a string) and\n",
    "non-negative integers depth and indent. Your function should visit every web\n",
    "page reachable from the starting URL web page in depth clicks or less, and print\n",
    "each web page's URL. As shown below, indentation, specified by indent, should\n",
    "be used to indicate the depth of a URL."
   ]
  },
  {
   "cell_type": "code",
   "execution_count": 32,
   "id": "0f15e1da-3223-4253-858e-10a90420edf7",
   "metadata": {},
   "outputs": [
    {
     "name": "stdout",
     "output_type": "stream",
     "text": [
      "Error: 404 Client Error:  for url: http://reed.cs.depaul.edu/lperkovic/csc242/test1.html\n"
     ]
    }
   ],
   "source": [
    "import requests\n",
    "\n",
    "def webdir(url, depth, indent):\n",
    "    if depth < 0:\n",
    "        return\n",
    "\n",
    "    try:\n",
    "        response = requests.get(url)\n",
    "        response.raise_for_status()\n",
    "\n",
    "        print(' ' * indent + url)\n",
    "\n",
    "        if depth > 0:\n",
    "            links = find_links(response.text)\n",
    "            for link in links:\n",
    "                webdir(link, depth - 1, indent + 4)\n",
    "\n",
    "    except requests.exceptions.RequestException as e:\n",
    "        print(' ' * indent + f\"Error: {e}\")\n",
    "\n",
    "def find_links(html_content):\n",
    "    links = []\n",
    "    start = 0\n",
    "    while True:\n",
    "        start = html_content.find('href=\"', start)\n",
    "        if start == -1:\n",
    "            break\n",
    "        start += 6\n",
    "        end = html_content.find('\"', start)\n",
    "        if end == -1:\n",
    "            break\n",
    "        links.append(html_content[start:end])\n",
    "        start = end\n",
    "    return links\n",
    "\n",
    "webdir('http://reed.cs.depaul.edu/lperkovic/csc242/test1.html', 2, 0)"
   ]
  },
  {
   "cell_type": "markdown",
   "id": "47c84e03-8702-4e46-bcd1-c038b2c6c785",
   "metadata": {},
   "source": [
    "#Question 8\n",
    "Write SQL queries on the below database table that return:\n",
    "a) All the temperature data.\n",
    "b) All the cities, but without repetition.\n",
    "c) All the records for India.\n",
    "d) All the Fall records.e) The city, country, and season for which the average rainfall is between 200\n",
    "and 400 millimeters.\n",
    "f) The city and country for which the average Fall temperature is above 20\n",
    "degrees, in increasing temperature order.\n",
    "g) The total annual rainfall for Cairo.\n",
    "h) The total rainfall for each season."
   ]
  },
  {
   "cell_type": "code",
   "execution_count": null,
   "id": "52d33417-d764-4c0c-8d26-4aa733acb751",
   "metadata": {},
   "outputs": [],
   "source": [
    "a)\n",
    "SELECT \"Temp (C)\"\n",
    "FROM weather_data;\n",
    "\n",
    "\n",
    "b)\n",
    "SELECT DISTINCT Location\n",
    "FROM weather_data;\n",
    "\n",
    "\n",
    "c)\n",
    "SELECT *\n",
    "FROM weather_data\n",
    "WHERE Nation = 'India';\n",
    "\n",
    "\n",
    "d)\n",
    "SELECT *\n",
    "FROM weather_data\n",
    "WHERE Period = 'Autumn';\n",
    "\n",
    "\n",
    "\n",
    "e)\n",
    "SELECT Location, Nation, Period\n",
    "FROM weather_data\n",
    "GROUP BY Location, Nation, Period\n",
    "HAVING AVG(\"Precipitation (mm)\") BETWEEN 200 AND 400;\n",
    "\n",
    "\n",
    "f)\n",
    "SELECT Location, SUM(\"Precipitation (mm)\") AS TotalAnnualPrecipitation\n",
    "FROM weather_data\n",
    "WHERE Location = 'Cairo'\n",
    "GROUP BY Location;\n",
    "\n",
    "\n",
    "\n",
    "g)\n",
    "SELECT Location, SUM(\"Precipitation (mm)\") AS TotalAnnualPrecipitation\n",
    "FROM weather_data\n",
    "WHERE Location = 'Cairo'\n",
    "GROUP BY Location;\n",
    "\n",
    "\n",
    "h)\n",
    "SELECT Period, SUM(\"Precipitation (mm)\") AS TotalPrecipitation\n",
    "FROM weather_data\n",
    "GROUP BY Period;\n"
   ]
  },
  {
   "cell_type": "markdown",
   "id": "a0ff8781-f0dd-4d0a-ada9-7efddcf9244b",
   "metadata": {},
   "source": [
    "#Question 9.\n",
    "\n",
    "Suppose list words is defined as follows: words = ['The', 'quick', 'brown', 'fox', 'jumps', 'over','the', 'lazy', 'dog']\n",
    "\n",
    "Write list comprehension expressions that use list words and generate the following lists:\n",
    "\n",
    "a. ['THE', 'QUICK', 'BROWN', 'FOX', 'JUMPS', 'OVER', 'THE','LAZY', 'DOG'] b. ['the', 'quick', 'brown', 'fox', 'jumps', 'over', 'the','lazy', 'dog'] c. [3, 5, 5, 3, 5, 4, 3, 4, 3] (the list of lengths of words in listwords). d. [['THE', 'the', 3], ['QUICK', 'quick', 5], ['BROWN','brown', 5], ['FOX', 'fox', 3], ['JUMPS', 'jumps', 5],['OVER', 'over', 4], ['THE', 'the', 3], ['LAZY', 'lazy',4], ['DOG', 'dog', 3]] (the list containing a list for every word of listwords, where each list contains the word in uppercase and lowercase and thelength of the word.) e. ['The', 'quick', 'brown', 'fox', 'jumps', 'over', 'the','lazy', 'dog'] the list of words in list words containing 4 or morecharacters."
   ]
  },
  {
   "cell_type": "code",
   "execution_count": 25,
   "id": "9259d01b-9015-4ea9-8375-b1902b32261b",
   "metadata": {},
   "outputs": [
    {
     "name": "stdout",
     "output_type": "stream",
     "text": [
      "a. ['THE', 'QUICK', 'BROWN', 'FOX', 'JUMPS', 'OVER', 'THE', 'LAZY', 'DOG']\n",
      "b. ['the', 'quick', 'brown', 'fox', 'jumps', 'over', 'the', 'lazy', 'dog']\n",
      "c. [3, 5, 5, 3, 5, 4, 3, 4, 3]\n",
      "d. [['THE', 'the', 3], ['QUICK', 'quick', 5], ['BROWN', 'brown', 5], ['FOX', 'fox', 3], ['JUMPS', 'jumps', 5], ['OVER', 'over', 4], ['THE', 'the', 3], ['LAZY', 'lazy', 4], ['DOG', 'dog', 3]]\n",
      "e. ['quick', 'brown', 'jumps', 'over', 'lazy']\n"
     ]
    }
   ],
   "source": [
    "words = ['The', 'quick', 'brown', 'fox', 'jumps', 'over', 'the', 'lazy', 'dog']\n",
    "uppercase_words = [word.upper() for word in words]\n",
    "lowercase_words = [word.lower() for word in words]\n",
    "word_lengths = [len(word) for word in words]\n",
    "word_info = [[word.upper(), word.lower(), len(word)] for word in words]\n",
    "four_or_more_characters = [word for word in words if len(word) >= 4]\n",
    "print(\"a.\", uppercase_words)\n",
    "print(\"b.\", lowercase_words)\n",
    "print(\"c.\", word_lengths)\n",
    "print(\"d.\", word_info)\n",
    "print(\"e.\", four_or_more_characters)"
   ]
  },
  {
   "cell_type": "code",
   "execution_count": null,
   "id": "646013c5-73f6-4abd-900b-802eac8a9eb6",
   "metadata": {},
   "outputs": [],
   "source": []
  }
 ],
 "metadata": {
  "kernelspec": {
   "display_name": "Python 3 (ipykernel)",
   "language": "python",
   "name": "python3"
  },
  "language_info": {
   "codemirror_mode": {
    "name": "ipython",
    "version": 3
   },
   "file_extension": ".py",
   "mimetype": "text/x-python",
   "name": "python",
   "nbconvert_exporter": "python",
   "pygments_lexer": "ipython3",
   "version": "3.10.9"
  }
 },
 "nbformat": 4,
 "nbformat_minor": 5
}
